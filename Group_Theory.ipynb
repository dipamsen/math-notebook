{
 "cells": [
  {
   "attachments": {},
   "cell_type": "markdown",
   "metadata": {},
   "source": [
    "# Group Theory\n",
    "\n",
    "A group is a collection of objects (elements) with a binary operation that satisfies the following axioms:\n",
    "1. Closure: \n",
    "$$\n",
    "a \\cdot b \\in G \\qquad \\forall \\  a, b \\in G\n",
    "$$\n",
    "\n",
    "2. Associativity:\n",
    "$$\n",
    "(a \\cdot b) \\cdot c = a \\cdot (b \\cdot c) \\qquad \\forall \\  a, b, c \\in G\n",
    "$$\n",
    "\n",
    "3. Identity element:\n",
    "$$\n",
    "e \\cdot a = a \\cdot e = a \\qquad \\forall \\  a \\in G\n",
    "$$\n",
    "\n",
    "4. Inverse element:\n",
    "$$\n",
    "a \\cdot a^{-1} = a^{-1} \\cdot a = e \\qquad \\forall \\  a \\in G\n",
    "$$\n"
   ]
  },
  {
   "cell_type": "markdown",
   "metadata": {},
   "source": []
  }
 ],
 "metadata": {
  "language_info": {
   "name": "python"
  },
  "orig_nbformat": 4
 },
 "nbformat": 4,
 "nbformat_minor": 2
}
