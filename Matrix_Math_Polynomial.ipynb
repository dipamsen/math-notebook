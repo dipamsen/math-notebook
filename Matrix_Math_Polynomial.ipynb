{
  "cells": [
    {
      "cell_type": "code",
      "execution_count": 2,
      "metadata": {
        "id": "1lbM1nrr5Pip"
      },
      "outputs": [],
      "source": [
        "from sympy import *"
      ]
    },
    {
      "cell_type": "code",
      "execution_count": 3,
      "metadata": {
        "id": "I3kt5Z6i5Slz"
      },
      "outputs": [],
      "source": [
        "x, y, z = symbols(\"x, y, z\")"
      ]
    },
    {
      "cell_type": "code",
      "execution_count": 4,
      "metadata": {
        "colab": {
          "base_uri": "https://localhost:8080/",
          "height": 78
        },
        "id": "nvOx1eCh5dT8",
        "outputId": "d750309f-6003-4d4b-d7f7-79dbd948aa1b"
      },
      "outputs": [
        {
          "data": {
            "text/latex": [
              "$\\displaystyle \\left[\\begin{matrix}1 & 0 & 1\\\\0 & 1 & 0\\\\0 & 0 & 1\\end{matrix}\\right]$"
            ],
            "text/plain": [
              "Matrix([\n",
              "[1, 0, 1],\n",
              "[0, 1, 0],\n",
              "[0, 0, 1]])"
            ]
          },
          "execution_count": 4,
          "metadata": {},
          "output_type": "execute_result"
        }
      ],
      "source": [
        "A = eye(3) + Matrix(((0,0,1),(0,0,0),(0,0,0)))\n",
        "A"
      ]
    },
    {
      "cell_type": "code",
      "execution_count": 5,
      "metadata": {
        "colab": {
          "base_uri": "https://localhost:8080/",
          "height": 78
        },
        "id": "RjNg23N36I7G",
        "outputId": "c90107c6-0e5c-4ca5-d997-3689b6e760d3"
      },
      "outputs": [
        {
          "data": {
            "text/latex": [
              "$\\displaystyle \\left[\\begin{matrix}1 & 0 & 2\\\\0 & 1 & 0\\\\0 & 0 & 1\\end{matrix}\\right]$"
            ],
            "text/plain": [
              "Matrix([\n",
              "[1, 0, 2],\n",
              "[0, 1, 0],\n",
              "[0, 0, 1]])"
            ]
          },
          "execution_count": 5,
          "metadata": {},
          "output_type": "execute_result"
        }
      ],
      "source": [
        "A**2"
      ]
    },
    {
      "cell_type": "code",
      "execution_count": 6,
      "metadata": {
        "colab": {
          "base_uri": "https://localhost:8080/",
          "height": 78
        },
        "id": "CnDQOibN6LJx",
        "outputId": "d8c58b86-c2fe-4fa4-f10a-489bb6b4d263"
      },
      "outputs": [
        {
          "data": {
            "text/latex": [
              "$\\displaystyle \\left[\\begin{matrix}1 & 0 & x\\\\0 & 1 & 0\\\\0 & 0 & 1\\end{matrix}\\right]$"
            ],
            "text/plain": [
              "Matrix([\n",
              "[1, 0, x],\n",
              "[0, 1, 0],\n",
              "[0, 0, 1]])"
            ]
          },
          "execution_count": 6,
          "metadata": {},
          "output_type": "execute_result"
        }
      ],
      "source": [
        "A**x"
      ]
    },
    {
      "cell_type": "code",
      "execution_count": 7,
      "metadata": {
        "colab": {
          "base_uri": "https://localhost:8080/",
          "height": 58
        },
        "id": "tY9GKbvF6PJ0",
        "outputId": "0c5107e4-98a1-4f85-a434-a33e6e77eb51"
      },
      "outputs": [
        {
          "data": {
            "text/latex": [
              "$\\displaystyle \\left[\\begin{matrix}a & b\\\\c & d\\end{matrix}\\right]$"
            ],
            "text/plain": [
              "Matrix([\n",
              "[a, b],\n",
              "[c, d]])"
            ]
          },
          "execution_count": 7,
          "metadata": {},
          "output_type": "execute_result"
        }
      ],
      "source": [
        "a,b,c,d = symbols('a b c d')\n",
        "B = Matrix(((a, b), (c,d)))\n",
        "B"
      ]
    },
    {
      "cell_type": "code",
      "execution_count": 8,
      "metadata": {
        "colab": {
          "base_uri": "https://localhost:8080/",
          "height": 58
        },
        "id": "1MCuUENE67qJ",
        "outputId": "8d27d3a6-795d-49bd-b851-882dcc29deb1"
      },
      "outputs": [
        {
          "data": {
            "text/latex": [
              "$\\displaystyle \\left[\\begin{matrix}d & - b\\\\- c & a\\end{matrix}\\right]$"
            ],
            "text/plain": [
              "Matrix([\n",
              "[ d, -b],\n",
              "[-c,  a]])"
            ]
          },
          "execution_count": 8,
          "metadata": {},
          "output_type": "execute_result"
        }
      ],
      "source": [
        "B.adjugate()"
      ]
    },
    {
      "cell_type": "code",
      "execution_count": 9,
      "metadata": {
        "colab": {
          "base_uri": "https://localhost:8080/",
          "height": 58
        },
        "id": "S71ilzHk7UP2",
        "outputId": "77a2f9fe-660f-4e25-ef91-bb9c6c114187"
      },
      "outputs": [
        {
          "data": {
            "text/latex": [
              "$\\displaystyle \\left[\\begin{matrix}\\cos{\\left(x \\right)} & - \\sin{\\left(x \\right)}\\\\\\sin{\\left(x \\right)} & \\cos{\\left(x \\right)}\\end{matrix}\\right]$"
            ],
            "text/plain": [
              "Matrix([\n",
              "[cos(x), -sin(x)],\n",
              "[sin(x),  cos(x)]])"
            ]
          },
          "execution_count": 9,
          "metadata": {},
          "output_type": "execute_result"
        }
      ],
      "source": [
        "rot = Matrix(((cos(x), -sin(x)), (sin(x), cos(x))))\n",
        "rot"
      ]
    },
    {
      "cell_type": "code",
      "execution_count": 10,
      "metadata": {
        "colab": {
          "base_uri": "https://localhost:8080/",
          "height": 38
        },
        "id": "pDRbKt2C8FHk",
        "outputId": "7949e025-e59c-4c03-d26d-4e3efc8e4c94"
      },
      "outputs": [
        {
          "data": {
            "text/latex": [
              "$\\displaystyle \\left\\{2 n \\pi\\; \\middle|\\; n \\in \\mathbb{Z}\\right\\} \\cup \\left\\{\\pi \\left(2 n + 1\\right)\\; \\middle|\\; n \\in \\mathbb{Z}\\right\\}$"
            ],
            "text/plain": [
              "Union(ImageSet(Lambda(_n, pi*(2*_n + 1)), Integers), ImageSet(Lambda(_n, 2*_n*pi), Integers))"
            ]
          },
          "execution_count": 10,
          "metadata": {},
          "output_type": "execute_result"
        }
      ],
      "source": [
        "simplify(solveset(Eq(sin(x), 0),x))"
      ]
    },
    {
      "cell_type": "code",
      "execution_count": 11,
      "metadata": {
        "colab": {
          "base_uri": "https://localhost:8080/",
          "height": 78
        },
        "id": "AOUo7-9hHi5O",
        "outputId": "5de0ab41-20a7-483c-abb0-147f4abd37a2"
      },
      "outputs": [
        {
          "data": {
            "text/latex": [
              "$\\displaystyle \\left[\\begin{matrix}a & b & c\\\\d & e & f\\\\g & h & i\\end{matrix}\\right]$"
            ],
            "text/plain": [
              "Matrix([\n",
              "[a, b, c],\n",
              "[d, e, f],\n",
              "[g, h, i]])"
            ]
          },
          "execution_count": 11,
          "metadata": {},
          "output_type": "execute_result"
        }
      ],
      "source": [
        "a,b,c,d,e,f,g,h,i = symbols(\"a,b,c,d,e,f,g,h,i\")\n",
        "X = Matrix(((a,b,c),(d,e,f),(g,h,i)))\n",
        "X"
      ]
    },
    {
      "cell_type": "code",
      "execution_count": 12,
      "metadata": {
        "colab": {
          "base_uri": "https://localhost:8080/",
          "height": 78
        },
        "id": "R6WwXTzyH0V7",
        "outputId": "0e79bb82-a194-4259-b0e9-456f48d96276"
      },
      "outputs": [
        {
          "data": {
            "text/latex": [
              "$\\displaystyle \\left[\\begin{matrix}- \\lambda + a & b & c\\\\d & - \\lambda + e & f\\\\g & h & - \\lambda + i\\end{matrix}\\right]$"
            ],
            "text/plain": [
              "Matrix([\n",
              "[-\\lambda + a,            b,            c],\n",
              "[           d, -\\lambda + e,            f],\n",
              "[           g,            h, -\\lambda + i]])"
            ]
          },
          "execution_count": 12,
          "metadata": {},
          "output_type": "execute_result"
        }
      ],
      "source": [
        "l =  Symbol(\"\\\\lambda\")\n",
        "I = eye(3)\n",
        "X - l*I"
      ]
    },
    {
      "cell_type": "code",
      "execution_count": 13,
      "metadata": {
        "colab": {
          "base_uri": "https://localhost:8080/",
          "height": 38
        },
        "id": "12kaVKN8IC-p",
        "outputId": "6054accc-a26e-46c1-92ae-a600e2249dae"
      },
      "outputs": [
        {
          "data": {
            "text/latex": [
              "$\\displaystyle \\lambda^{3} + \\lambda^{2} \\left(- a - e - i\\right) + \\lambda \\left(a e + a i - b d - c g + e i - f h\\right) - a e i + a f h + b d i - b f g - c d h + c e g$"
            ],
            "text/plain": [
              "\\lambda**3 + \\lambda**2*(-a - e - i) + \\lambda*(a*e + a*i - b*d - c*g + e*i - f*h) - a*e*i + a*f*h + b*d*i - b*f*g - c*d*h + c*e*g"
            ]
          },
          "execution_count": 13,
          "metadata": {},
          "output_type": "execute_result"
        }
      ],
      "source": [
        "P = (monic((X - l*I).det(), l))\n",
        "P"
      ]
    },
    {
      "cell_type": "code",
      "execution_count": 14,
      "metadata": {
        "colab": {
          "base_uri": "https://localhost:8080/",
          "height": 299
        },
        "id": "YfY8DdJZLNU3",
        "outputId": "903f6757-d60b-4563-b9f9-b6fa4ca905db"
      },
      "outputs": [
        {
          "data": {
            "text/latex": [
              "$\\displaystyle \\mathrm{Coefficient\\  of\\  }\\lambda^2:$"
            ],
            "text/plain": [
              "<IPython.core.display.Math object>"
            ]
          },
          "metadata": {},
          "output_type": "display_data"
        },
        {
          "data": {
            "text/latex": [
              "$\\displaystyle - (a + e + i)$"
            ],
            "text/plain": [
              "-(a + e + i)"
            ]
          },
          "metadata": {},
          "output_type": "display_data"
        },
        {
          "data": {
            "text/latex": [
              "$\\displaystyle \\mathrm{Trace\\  of\\  }X:$"
            ],
            "text/plain": [
              "<IPython.core.display.Math object>"
            ]
          },
          "metadata": {},
          "output_type": "display_data"
        },
        {
          "data": {
            "text/latex": [
              "$\\displaystyle a + e + i$"
            ],
            "text/plain": [
              "a + e + i"
            ]
          },
          "metadata": {},
          "output_type": "display_data"
        },
        {
          "name": "stdout",
          "output_type": "stream",
          "text": [
            "\n",
            "\n"
          ]
        },
        {
          "data": {
            "text/latex": [
              "$\\displaystyle \\mathrm{Coefficient\\  of\\  }\\lambda:$"
            ],
            "text/plain": [
              "<IPython.core.display.Math object>"
            ]
          },
          "metadata": {},
          "output_type": "display_data"
        },
        {
          "data": {
            "text/latex": [
              "$\\displaystyle a e + a i - b d - c g + e i - f h$"
            ],
            "text/plain": [
              "a*e + a*i - b*d - c*g + e*i - f*h"
            ]
          },
          "metadata": {},
          "output_type": "display_data"
        },
        {
          "name": "stdout",
          "output_type": "stream",
          "text": [
            "\n",
            "\n"
          ]
        },
        {
          "data": {
            "text/latex": [
              "$\\displaystyle \\mathrm{Constant\\ term:}$"
            ],
            "text/plain": [
              "<IPython.core.display.Math object>"
            ]
          },
          "metadata": {},
          "output_type": "display_data"
        },
        {
          "data": {
            "text/latex": [
              "$\\displaystyle - (a e i - a f h - b d i + b f g + c d h - c e g)$"
            ],
            "text/plain": [
              "-(a*e*i - a*f*h - b*d*i + b*f*g + c*d*h - c*e*g)"
            ]
          },
          "metadata": {},
          "output_type": "display_data"
        },
        {
          "data": {
            "text/latex": [
              "$\\displaystyle \\mathrm{Determinant\\ of\\ }X:$"
            ],
            "text/plain": [
              "<IPython.core.display.Math object>"
            ]
          },
          "metadata": {},
          "output_type": "display_data"
        },
        {
          "data": {
            "text/latex": [
              "$\\displaystyle a e i - a f h - b d i + b f g + c d h - c e g$"
            ],
            "text/plain": [
              "a*e*i - a*f*h - b*d*i + b*f*g + c*d*h - c*e*g"
            ]
          },
          "metadata": {},
          "output_type": "display_data"
        }
      ],
      "source": [
        "from IPython.display import Math\n",
        "\n",
        "Pl = Poly(P,l)\n",
        "display(Math(r\"\\mathrm{Coefficient\\  of\\  }\\lambda^2:\"), Mul(-1, -Pl.all_coeffs()[1], evaluate=False))\n",
        "display(Math(r\"\\mathrm{Trace\\  of\\  }X:\"), X.trace())\n",
        "print()\n",
        "print()\n",
        "display(Math(r\"\\mathrm{Coefficient\\  of\\  }\\lambda:\"), Pl.all_coeffs()[2])\n",
        "print()\n",
        "print()\n",
        "display(Math(r\"\\mathrm{Constant\\ term:}\"), Mul(-1, -Pl.all_coeffs()[3], evaluate=False))\n",
        "display(Math(r\"\\mathrm{Determinant\\ of\\ }X:\"), X.det())"
      ]
    },
    {
      "cell_type": "markdown",
      "metadata": {
        "id": "5oxejLQgY2AC"
      },
      "source": [
        "(for $n = 3$) \n",
        "\n",
        "We can construct the matrix polynomial (monic) by evaluating $|A - \\lambda I|=0$.\n",
        "\n",
        "Here, \n",
        "\n",
        "- Negative of coefficient of $\\lambda^2$ represents the trace value of the matrix $A$.\n",
        "\n",
        "- Coefficient of $\\lambda$ represents the sum of minors of diagonal elements of matrix $A$.\n",
        "\n",
        "- Negative of the constant term represents the determinant value of the matrix $A$.\n",
        "\n",
        "Hence, the matrix polynomial can be represented as:\n",
        "\n",
        "$$\n",
        "\\lambda^3 - \\mathrm{tr}(A)\\lambda^2 + \\sum_{i=1}^3 M_{ii}\\lambda - det(A)\n",
        "$$\n",
        "\n",
        "where, $M_{ij}$ is the minor of element $a_{ij}$ in matrix $A$."
      ]
    },
    {
      "cell_type": "markdown",
      "metadata": {
        "id": "Zk2QDik9u4bk"
      },
      "source": [
        "## Alternate interpretation:\n",
        "\n",
        "$$A = \\begin{bmatrix}\n",
        "a & b & c\\\\\n",
        "d & e & f\\\\\n",
        "g & h & i\n",
        "\\end{bmatrix}$$\n",
        "\n",
        "Matrix Polynomial:\n",
        "$$\\lambda^3 - p\\lambda^2 + q\\lambda - r$$\n",
        "\n",
        "where,\n",
        "\n",
        "$$p = |a| + |e| + |i|$$\n",
        "\n",
        "<br>\n",
        "\n",
        "$$q = \\begin{vmatrix}e&f\\\\h&i\\end{vmatrix} + \\begin{vmatrix}a&c\\\\g&i\\end{vmatrix} + \\begin{vmatrix}a&b\\\\d&e\\end{vmatrix}$$\n",
        "\n",
        "<br>\n",
        "\n",
        "$$r = \\begin{vmatrix}\n",
        "a & b & c\\\\\n",
        "d & e & f\\\\\n",
        "g & h & i\n",
        "\\end{vmatrix}$$"
      ]
    }
  ],
  "metadata": {
    "colab": {
      "provenance": []
    },
    "kernelspec": {
      "display_name": "Python 3",
      "name": "python3"
    },
    "language_info": {
      "codemirror_mode": {
        "name": "ipython",
        "version": 3
      },
      "file_extension": ".py",
      "mimetype": "text/x-python",
      "name": "python",
      "nbconvert_exporter": "python",
      "pygments_lexer": "ipython3",
      "version": "3.11.0"
    }
  },
  "nbformat": 4,
  "nbformat_minor": 0
}
